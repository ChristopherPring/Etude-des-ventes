{
 "cells": [
  {
   "cell_type": "markdown",
   "id": "b73f93db-fa92-4e48-9ee9-d0884b51411b",
   "metadata": {},
   "source": [
    "<img src=\"Data/logo_lapage_small.png\" />"
   ]
  },
  {
   "cell_type": "markdown",
   "id": "cd179be1-8195-4b6a-8621-abc26b0a859b",
   "metadata": {
    "tags": []
   },
   "source": [
    "# <u> Etude des corrélations</u>\n",
    "\n",
    "# Sommaire\n",
    "\n",
    "* [Importation des librairies et des fichiers](#chapter1)\n",
    "* [Modification du Dataframe](#chapter2)\n",
    "* [Analyse sur le montant du panier](#chapter3)\n",
    "* [Etude des corrélations](#chapter4)\n",
    "    * [Genre et catégorie](#section4_1)\n",
    "    * [Corrélation entre Age et](#section4_2)\n",
    "        * [Montant total des achats](#section4_2_1)\n",
    "        * [Montant moyen du panier](#section4_2_2)\n",
    "        * [Fréquence d'achats](#section4_2_3)\n",
    "        * [Catégorie de livres](#section4_2_4)     \n",
    "    * [Autres corrélations](#section4_3)\n",
    "        * [Montant moyen du panier en fct du genre](#section4_3_1)\n",
    "        * [Age moyen des acheteurs par produits](#section4_3_2)\n",
    "    * [Récapitulatif](#section4_4)\n",
    "\n",
    "# Importation des librairies et des fichiers <a class=\"anchor\" id=\"chapter1\"></a>\n",
    "\n",
    "Pour cette étude, nous allons utiliser les librairies Pandas pour la gestion des dataframes, Matplotlib et Seaborn pour la création de graphes, Numpy pour les calculs et Scipy pour les statistiques."
   ]
  },
  {
   "cell_type": "code",
   "execution_count": 1,
   "id": "b05f418f-fa3e-41cf-9022-6821b2b94778",
   "metadata": {},
   "outputs": [],
   "source": [
    "import pandas as pd\n",
    "import numpy as np\n",
    "import matplotlib.pyplot as plt\n",
    "import seaborn as sns\n",
    "import scipy\n",
    "from scipy import stats as st\n",
    "import pingouin as pg\n",
    "# désactivation des messages d'avertissement\n",
    "from warnings import filterwarnings\n",
    "filterwarnings('ignore')"
   ]
  },
  {
   "cell_type": "markdown",
   "id": "2850252e-79fb-462a-9d74-cf9ced2249e2",
   "metadata": {},
   "source": [
    "Nous importons aussi le fichier créer dans la partie préparatoire."
   ]
  },
  {
   "cell_type": "code",
   "execution_count": 2,
   "id": "f2d4aff3-b04f-4e23-ae87-642043aa73a6",
   "metadata": {},
   "outputs": [],
   "source": [
    "lapage_df = pd.read_csv(\"Data/lapage_df.csv\")\n",
    "# changement de types\n",
    "lapage_df.date = pd.to_datetime(lapage_df.date)\n",
    "lapage_df.categ = lapage_df.categ.astype(str)"
   ]
  },
  {
   "cell_type": "markdown",
   "id": "446511e2",
   "metadata": {},
   "source": [
    "***\n",
    "***"
   ]
  },
  {
   "cell_type": "markdown",
   "id": "34b93e54-cc30-45ea-bad4-6b2a9b42e3a2",
   "metadata": {
    "tags": []
   },
   "source": [
    "# Modification du Dataframe <a class=\"anchor\" id=\"chapter2\"></a>\n",
    "Pour la suite de l'étude, nous excluons les 4 clients BtoB :"
   ]
  },
  {
   "cell_type": "code",
   "execution_count": 3,
   "id": "5ea7de3f-8488-413e-bccb-29886d975efc",
   "metadata": {},
   "outputs": [],
   "source": [
    "# liste des clients BtoB\n",
    "liste = {\"c_4958\", \"c_3454\", \"c_6714\", \"c_1609\"}\n",
    "lapage_df = lapage_df[~lapage_df.client_id.isin(liste)]"
   ]
  },
  {
   "cell_type": "markdown",
   "id": "bc99578c",
   "metadata": {},
   "source": [
    "***\n",
    "***"
   ]
  },
  {
   "cell_type": "markdown",
   "id": "1deffc00-b354-4e4a-a755-ae1d01f685a1",
   "metadata": {
    "tags": []
   },
   "source": [
    "# Analyse sur le montant du panier <a class=\"anchor\" id=\"chapter3\"></a>\n",
    "Pour celà, nous allons grouper nos données par identifiant de session, par âge et par sexe (en vue d'une étude de l'influence du genre sur le montant des achats)."
   ]
  },
  {
   "cell_type": "code",
   "execution_count": 4,
   "id": "ee7193c3-90d1-4cc4-b08a-36cbcf85777b",
   "metadata": {},
   "outputs": [
    {
     "data": {
      "text/html": [
       "<div>\n",
       "<style scoped>\n",
       "    .dataframe tbody tr th:only-of-type {\n",
       "        vertical-align: middle;\n",
       "    }\n",
       "\n",
       "    .dataframe tbody tr th {\n",
       "        vertical-align: top;\n",
       "    }\n",
       "\n",
       "    .dataframe thead th {\n",
       "        text-align: right;\n",
       "    }\n",
       "</style>\n",
       "<table border=\"1\" class=\"dataframe\">\n",
       "  <thead>\n",
       "    <tr style=\"text-align: right;\">\n",
       "      <th></th>\n",
       "      <th>session_id</th>\n",
       "      <th>age</th>\n",
       "      <th>sex</th>\n",
       "      <th>montant du panier</th>\n",
       "    </tr>\n",
       "  </thead>\n",
       "  <tbody>\n",
       "    <tr>\n",
       "      <th>5919</th>\n",
       "      <td>s_107417</td>\n",
       "      <td>64</td>\n",
       "      <td>f</td>\n",
       "      <td>0.62</td>\n",
       "    </tr>\n",
       "    <tr>\n",
       "      <th>162060</th>\n",
       "      <td>s_260416</td>\n",
       "      <td>64</td>\n",
       "      <td>f</td>\n",
       "      <td>0.62</td>\n",
       "    </tr>\n",
       "    <tr>\n",
       "      <th>248063</th>\n",
       "      <td>s_34456</td>\n",
       "      <td>82</td>\n",
       "      <td>f</td>\n",
       "      <td>0.62</td>\n",
       "    </tr>\n",
       "    <tr>\n",
       "      <th>3710</th>\n",
       "      <td>s_104606</td>\n",
       "      <td>39</td>\n",
       "      <td>m</td>\n",
       "      <td>0.62</td>\n",
       "    </tr>\n",
       "    <tr>\n",
       "      <th>258715</th>\n",
       "      <td>s_41352</td>\n",
       "      <td>64</td>\n",
       "      <td>f</td>\n",
       "      <td>0.62</td>\n",
       "    </tr>\n",
       "    <tr>\n",
       "      <th>...</th>\n",
       "      <td>...</td>\n",
       "      <td>...</td>\n",
       "      <td>...</td>\n",
       "      <td>...</td>\n",
       "    </tr>\n",
       "    <tr>\n",
       "      <th>49556</th>\n",
       "      <td>s_150439</td>\n",
       "      <td>30</td>\n",
       "      <td>m</td>\n",
       "      <td>496.22</td>\n",
       "    </tr>\n",
       "    <tr>\n",
       "      <th>238299</th>\n",
       "      <td>s_335005</td>\n",
       "      <td>19</td>\n",
       "      <td>f</td>\n",
       "      <td>535.17</td>\n",
       "    </tr>\n",
       "    <tr>\n",
       "      <th>302148</th>\n",
       "      <td>s_83158</td>\n",
       "      <td>19</td>\n",
       "      <td>f</td>\n",
       "      <td>535.17</td>\n",
       "    </tr>\n",
       "    <tr>\n",
       "      <th>21350</th>\n",
       "      <td>s_123227</td>\n",
       "      <td>30</td>\n",
       "      <td>f</td>\n",
       "      <td>539.23</td>\n",
       "    </tr>\n",
       "    <tr>\n",
       "      <th>315280</th>\n",
       "      <td>s_95844</td>\n",
       "      <td>25</td>\n",
       "      <td>m</td>\n",
       "      <td>568.88</td>\n",
       "    </tr>\n",
       "  </tbody>\n",
       "</table>\n",
       "<p>319274 rows × 4 columns</p>\n",
       "</div>"
      ],
      "text/plain": [
       "       session_id  age sex  montant du panier\n",
       "5919     s_107417   64   f               0.62\n",
       "162060   s_260416   64   f               0.62\n",
       "248063    s_34456   82   f               0.62\n",
       "3710     s_104606   39   m               0.62\n",
       "258715    s_41352   64   f               0.62\n",
       "...           ...  ...  ..                ...\n",
       "49556    s_150439   30   m             496.22\n",
       "238299   s_335005   19   f             535.17\n",
       "302148    s_83158   19   f             535.17\n",
       "21350    s_123227   30   f             539.23\n",
       "315280    s_95844   25   m             568.88\n",
       "\n",
       "[319274 rows x 4 columns]"
      ]
     },
     "execution_count": 4,
     "metadata": {},
     "output_type": "execute_result"
    }
   ],
   "source": [
    "# création du df\n",
    "montant_panier_df = pd.DataFrame(lapage_df.groupby([\"session_id\", \"age\", \"sex\"], as_index=False)[\"price\"].sum())\n",
    "# changement de nom pour la colonne price\n",
    "montant_panier_df.rename(columns={\"price\":\"montant du panier\"}, inplace=True)\n",
    "# tri par ordre croissant\n",
    "montant_panier_df.sort_values(\"montant du panier\")"
   ]
  },
  {
   "cell_type": "markdown",
   "id": "452a4f6b-6476-470d-838c-3b7448f34aff",
   "metadata": {},
   "source": [
    "Nous pouvons calculer le nombre optimal de tranches pour notre représentation graphique grâce à la règle de Sturges :"
   ]
  },
  {
   "cell_type": "code",
   "execution_count": 5,
   "id": "8c8c12d7-2e9a-4d1c-90d1-3794f74db924",
   "metadata": {},
   "outputs": [
    {
     "name": "stdout",
     "output_type": "stream",
     "text": [
      "Le nombre de tranches donné par la règle de Sturges est ici de 19\n"
     ]
    }
   ],
   "source": [
    "# calcul du nb optimal de tranches \n",
    "N = len(montant_panier_df) # taille de l'échantillon\n",
    "# règle de Sturges : k = 1 + log2(N) \n",
    "k = 1 + np.log2(N)\n",
    "print(\"Le nombre de tranches donné par la règle de Sturges est ici de\", round(k))"
   ]
  },
  {
   "cell_type": "code",
   "execution_count": 6,
   "id": "fb956a67-b524-4c70-b919-c11509259943",
   "metadata": {},
   "outputs": [
    {
     "name": "stdout",
     "output_type": "stream",
     "text": [
      "Le panier moyen est de  34.38 €\n"
     ]
    },
    {
     "data": {
      "image/png": "[encoded data removed]",
      "text/plain": [
       "<Figure size 360x360 with 1 Axes>"
      ]
     },
     "metadata": {
      "needs_background": "light"
     },
     "output_type": "display_data"
    }
   ],
   "source": [
    "# calcul de la moyenne\n",
    "panier_moy = montant_panier_df[\"montant du panier\"].mean()\n",
    "\n",
    "# visualisation\n",
    "sns.displot(montant_panier_df, x=\"montant du panier\", bins=19)\n",
    "plt.axvline(x=panier_moy, color='r', linewidth=2, label=\"panier moyen\");\n",
    "print(\"Le panier moyen est de \", round(panier_moy,2), \"€\")"
   ]
  },
  {
   "cell_type": "code",
   "execution_count": 7,
   "id": "5387e145-942b-42e0-93e8-6b45f5473fe3",
   "metadata": {},
   "outputs": [
    {
     "name": "stdout",
     "output_type": "stream",
     "text": [
      "Le coefficient d'asymétrie pour la variable 'montant du panier' est de 3.35\n",
      "Le coefficient d'aplatissement est de 18.42\n"
     ]
    }
   ],
   "source": [
    "# coefficient d'asymétrie\n",
    "sk = montant_panier_df[\"montant du panier\"].skew() # 0 pour loi normale\n",
    "print(\"Le coefficient d'asymétrie pour la variable 'montant du panier' est de\", round(sk,2))\n",
    "# coefficient d'aplatissement de la courbe\n",
    "kur = montant_panier_df[\"montant du panier\"].kurtosis()\n",
    "print(\"Le coefficient d'aplatissement est de\", round(kur,2))"
   ]
  },
  {
   "cell_type": "markdown",
   "id": "2f5d6c89-e1b2-4e5d-ad5f-55d19b721eb2",
   "metadata": {},
   "source": [
    "La courbe a une distribution unimodale asymétrique vers la droite et est très peu aplatie (en comparaison à la loi Normale). Nous aurions pu vérifier cela avec un test de normalité :"
   ]
  },
  {
   "cell_type": "code",
   "execution_count": 8,
   "id": "4f1662c0-cb90-463b-b8a2-63c90e3b802d",
   "metadata": {},
   "outputs": [
    {
     "data": {
      "text/html": [
       "<div>\n",
       "<style scoped>\n",
       "    .dataframe tbody tr th:only-of-type {\n",
       "        vertical-align: middle;\n",
       "    }\n",
       "\n",
       "    .dataframe tbody tr th {\n",
       "        vertical-align: top;\n",
       "    }\n",
       "\n",
       "    .dataframe thead th {\n",
       "        text-align: right;\n",
       "    }\n",
       "</style>\n",
       "<table border=\"1\" class=\"dataframe\">\n",
       "  <thead>\n",
       "    <tr style=\"text-align: right;\">\n",
       "      <th></th>\n",
       "      <th>W</th>\n",
       "      <th>pval</th>\n",
       "      <th>normal</th>\n",
       "    </tr>\n",
       "  </thead>\n",
       "  <tbody>\n",
       "    <tr>\n",
       "      <th>montant du panier</th>\n",
       "      <td>0.711767</td>\n",
       "      <td>0.0</td>\n",
       "      <td>False</td>\n",
       "    </tr>\n",
       "  </tbody>\n",
       "</table>\n",
       "</div>"
      ],
      "text/plain": [
       "                          W  pval  normal\n",
       "montant du panier  0.711767   0.0   False"
      ]
     },
     "execution_count": 8,
     "metadata": {},
     "output_type": "execute_result"
    }
   ],
   "source": [
    "# test de normalité de la librairie Pingouin\n",
    "pg.normality(montant_panier_df[\"montant du panier\"])"
   ]
  },
  {
   "cell_type": "code",
   "execution_count": 9,
   "id": "09d84ce2-736a-4b94-ad15-0620ab74b745",
   "metadata": {
    "tags": []
   },
   "outputs": [
    {
     "data": {
      "image/png": "[encoded data removed]",
      "text/plain": [
       "<Figure size 432x288 with 1 Axes>"
      ]
     },
     "metadata": {
      "needs_background": "light"
     },
     "output_type": "display_data"
    }
   ],
   "source": [
    "# dispersion de la variable \"montant du panier\"\n",
    "plt.figure(figsize=(20,7))\n",
    "sns.boxplot(x=montant_panier_df[\"montant du panier\"], showmeans=True);"
   ]
  },
  {
   "cell_type": "markdown",
   "id": "9241ce75-8569-4d8e-9f1f-c74edb85db97",
   "metadata": {},
   "source": [
    "Nous observons beaucoup d'outliers dûs à des sessions d'achat contenant des livres de catégorie 2 (étudiants achetant leurs livres de cours)."
   ]
  },
  {
   "cell_type": "code",
   "execution_count": 10,
   "id": "c8298810-8828-47a4-923e-c8862cf94151",
   "metadata": {
    "scrolled": true
   },
   "outputs": [
    {
     "name": "stdout",
     "output_type": "stream",
     "text": [
      "Nous avons noté 11649 sessions de plus de 83€ faites par des personnes de moins de 31 ans\n"
     ]
    }
   ],
   "source": [
    "print(\"Nous avons noté\", len(montant_panier_df.loc[(montant_panier_df[\"montant du panier\"]>83) & (montant_panier_df.age<=31)]), \"sessions de plus de 83€ faites par des personnes de moins de 31 ans\")"
   ]
  },
  {
   "cell_type": "markdown",
   "id": "c62840b8",
   "metadata": {},
   "source": [
    "***\n",
    "***"
   ]
  },
  {
   "cell_type": "markdown",
   "id": "96a48a91-d85f-434b-9745-96054e04bd62",
   "metadata": {},
   "source": [
    "# Etude des corrélations <a class=\"anchor\" id=\"chapter4\"></a>\n",
    "## Genre & Catégorie <a class=\"anchor\" id=\"section4_1\"></a>"
   ]
  },
  {
   "cell_type": "markdown",
   "id": "e2f039dd-f596-4871-8350-1033e341bbdf",
   "metadata": {},
   "source": [
    "Nous pouvons visualiser les 2 variables qualitatives grâce à un diagramme à barres :"
   ]
  },
  {
   "cell_type": "code",
   "execution_count": 11,
   "id": "703604d9-1de9-431e-a6a3-020c5cf7bf63",
   "metadata": {},
   "outputs": [
    {
     "data": {
      "image/png": "[encoded data removed]",
      "text/plain": [
       "<Figure size 720x504 with 1 Axes>"
      ]
     },
     "metadata": {
      "needs_background": "light"
     },
     "output_type": "display_data"
    }
   ],
   "source": [
    "plt.figure(figsize=(10,7))\n",
    "sns.countplot(x=\"categ\", hue='sex', data =lapage_df, palette='coolwarm')\n",
    "plt.title(\"Nombre d'achats par catégorie selon le sexe\", fontsize=14, fontweight='bold');"
   ]
  },
  {
   "cell_type": "markdown",
   "id": "c3c0b7f3-1a53-45b7-9dd5-5d3c7e48a152",
   "metadata": {},
   "source": [
    "Pour chaque catégorie, il semble y avoir un nombre de ventes équivalent pour les 2 sexes.\n",
    ">H0 : les 2 variables sont indépendantes <br> H1 : les 2 variables sont corrélées\n",
    "\n",
    "Nous pouvons tester ces hypothèses avec un test du Khi²:"
   ]
  },
  {
   "cell_type": "code",
   "execution_count": 12,
   "id": "02b13e8d-8560-40bb-bec5-f104d1f1e795",
   "metadata": {},
   "outputs": [
    {
     "name": "stdout",
     "output_type": "stream",
     "text": [
      "La p-value est de  0.003 , l'hypothèse nulle est rejetée, les 2 variables sont corrélées.\n"
     ]
    }
   ],
   "source": [
    "# tableau de contingence\n",
    "cont = lapage_df.pivot_table(index=\"sex\", columns=\"categ\", values=\"id_prod\", aggfunc=\"count\", margins=True, margins_name=\"Total\")\n",
    "\n",
    "# donne dans l'ordre : valeurs du khi2, de la p-value, du nb de degrés de liberté et du tableau de valeurs attendues\n",
    "khi2, pval, ddl, expected = st.chi2_contingency(cont, correction=True)\n",
    "# résultat du test du khi2\n",
    "if pval>0.05:\n",
    "    print(\"La p-value est de \", round(pval,3), \", l'hypothèse nulle est retenue, les 2 variables sont indépendantes au seuil de 5%.\")\n",
    "else:\n",
    "    print(\"La p-value est de \", round(pval,3), \", l'hypothèse nulle est rejetée, les 2 variables sont corrélées.\")"
   ]
  },
  {
   "cell_type": "markdown",
   "id": "955aa7fc-fd8f-414a-9a68-e6424630594e",
   "metadata": {},
   "source": [
    "Les nombres de ventes ne peuvent significativement pas être considérées comme égaux, il y a bien une différence d'achats selon le genre du client."
   ]
  },
  {
   "cell_type": "code",
   "execution_count": 13,
   "id": "eac04d64-3901-4737-8b05-642a3dd28e43",
   "metadata": {},
   "outputs": [
    {
     "data": {
      "image/png": "[encoded data removed]",
      "text/plain": [
       "<Figure size 720x576 with 2 Axes>"
      ]
     },
     "metadata": {
      "needs_background": "light"
     },
     "output_type": "display_data"
    }
   ],
   "source": [
    "tx = cont.loc[:,[\"Total\"]]\n",
    "ty = cont.loc[[\"Total\"],:]\n",
    "n = len(lapage_df)\n",
    "indep = tx.dot(ty) / n\n",
    "\n",
    "# matrice des écarts au carré normalisés\n",
    "measure = (cont-indep)**2/indep #formule générale du khi²\n",
    "table = measure/khi2\n",
    "\n",
    "# visualisation\n",
    "plt.figure(figsize=(10,8))\n",
    "sns.heatmap(table.iloc[:-1,:-1], annot=table.iloc[:-1,:-1], cmap =(\"YlOrRd\"))\n",
    "plt.title(\"Carte des corrélations\", fontsize=15, fontweight='bold')\n",
    "plt.show()"
   ]
  },
  {
   "cell_type": "markdown",
   "id": "59205e37-0ea5-482e-ae01-459caf10fa2f",
   "metadata": {},
   "source": [
    "Les écarts entre les valeurs théoriques et les valeurs observées sont les plus forts pour la catégorie 1 ce qui confirme la dépendance des 2 variables."
   ]
  },
  {
   "cell_type": "markdown",
   "id": "5294549f-8ac4-4af2-a98b-33ee2e43533f",
   "metadata": {},
   "source": [
    "***"
   ]
  },
  {
   "cell_type": "markdown",
   "id": "e33bd932-6cff-4b9a-bcc7-dceffb996ab0",
   "metadata": {},
   "source": [
    "## Corrélation entre Age et ... <a class=\"anchor\" id=\"section4_2\"></a>\n",
    "### Montant total des achats (CA) <a class=\"anchor\" id=\"section4_2_1\"></a>\n",
    "Nous regroupons les informations selon l'age des clients : montant total des achats, moyenne mobile associée, nombre de clients par classe d'age et montant moyen des achats"
   ]
  },
  {
   "cell_type": "code",
   "execution_count": 14,
   "id": "1343640f-45a2-4cd3-bc46-6092ca940470",
   "metadata": {},
   "outputs": [],
   "source": [
    "# création du df, infos regroupées par age\n",
    "age_montant_df = lapage_df.groupby(\"age\", as_index=False).agg({\"price\":\"sum\", \"client_id\":\"nunique\"})\n",
    "# colonne en moyenne mobile, permet de lisser les résultats\n",
    "age_montant_df[\"total des achats (moyenne mobile)\"] = age_montant_df.price.rolling(5, center=True).mean()\n",
    "# colonne de la moyenne des dépenses par âge\n",
    "age_montant_df[\"montant total moyen\"] = age_montant_df.price / age_montant_df.client_id\n",
    "# renommage de colonnes pour plus de clarté\n",
    "age_montant_df.rename(columns={\"price\":\"total des achats\", \"client_id\":\"nombre de clients\"}, inplace=True)"
   ]
  },
  {
   "cell_type": "markdown",
   "id": "510ab6ab",
   "metadata": {},
   "source": [
    "Nous recherchons ici la corrélation entre 2 variables quantitatives. Testons tout d'abord la normalité de ces variables :"
   ]
  },
  {
   "cell_type": "code",
   "execution_count": 15,
   "id": "568a37ce-44f3-4693-9aa5-ccf9c3e43c47",
   "metadata": {},
   "outputs": [
    {
     "name": "stdout",
     "output_type": "stream",
     "text": [
      "                         W      pval  normal\n",
      "total des achats  0.911737  0.000061   False\n",
      "            W      pval  normal\n",
      "age  0.954924  0.008754   False\n"
     ]
    }
   ],
   "source": [
    "print(pg.normality(age_montant_df[\"total des achats\"]))\n",
    "print(pg.normality(age_montant_df[\"age\"]))"
   ]
  },
  {
   "cell_type": "markdown",
   "id": "a99f1889-5d3a-4158-a179-f211432bd7fa",
   "metadata": {},
   "source": [
    "Les 2 variables ne suivent pas de loi normale. Les tests statistiques seront donc non-paramétriques.<br>"
   ]
  },
  {
   "cell_type": "code",
   "execution_count": 16,
   "id": "e72e797a-3bea-4436-94a4-8f094c1d6e31",
   "metadata": {},
   "outputs": [
    {
     "data": {
      "image/png": "[encoded data removed]",
      "text/plain": [
       "<Figure size 1440x576 with 2 Axes>"
      ]
     },
     "metadata": {
      "needs_background": "light"
     },
     "output_type": "display_data"
    }
   ],
   "source": [
    "# visualisation\n",
    "plt.figure(figsize=(20,8))\n",
    "plt.subplot(1,2,1)\n",
    "sns.scatterplot(\"age\", \"total des achats\", data=age_montant_df, label=\"montant total\")\n",
    "plt.plot(\"age\", \"total des achats (moyenne mobile)\", data=age_montant_df, label=\"montant total en moyenne mobile\")\n",
    "plt.title(\"Répartition du montant total des achats selon l'age\", fontsize=15, fontweight='bold')\n",
    "plt.legend()\n",
    "plt.subplot(1,2,2)\n",
    "sns.scatterplot(x=\"age\", y=\"montant total moyen\", data=age_montant_df)\n",
    "sns.kdeplot(x=\"age\", y=\"montant total moyen\", cmap= \"Reds\", shade=True, alpha=0.5, data=age_montant_df)\n",
    "plt.title(\"Répartition du montant total moyen des achats selon l'age\", fontsize=15, fontweight='bold');"
   ]
  },
  {
   "cell_type": "markdown",
   "id": "eb811ede-4926-4bd0-8819-1419e06a3a50",
   "metadata": {},
   "source": [
    "NB : les clients de 19 ans et certains de 20 ans n'auraient pas pu pouvoir acheter au début de l'étude, <code>lapage_df.loc[lapage_df.age == 19].sort_values(\"date\")</code> montre le contraire.<br>\n",
    "\n",
    "Le nuage de points montre que la relation n'est ni linéaire, ni monotone, nous utiliserons donc un test de corrélation de Kendall\n",
    "> H0 : il n'y a pas de corrélation entre le montant total des achats et l'âge<br>  H1 : les 2 variables sont corrélées.<br>"
   ]
  },
  {
   "cell_type": "code",
   "execution_count": 17,
   "id": "2484bda8-639b-449d-afbd-d58c1eb697a8",
   "metadata": {},
   "outputs": [
    {
     "name": "stdout",
     "output_type": "stream",
     "text": [
      "La p-value est de 0.0 , l'hypothèse nulle est rejetée, les 2 variables sont corrélées.\n",
      "le τ de Kendall est de -0.708\n"
     ]
    }
   ],
   "source": [
    "corr, pval = st.kendalltau(age_montant_df[\"age\"], age_montant_df[\"total des achats\"])\n",
    "if pval>0.05:\n",
    "    print(\"La p-value est de\", round(pval,3), \", l'hypothèse nulle est retenue, les 2 variables sont indépendantes au seuil de 5%.\")\n",
    "else:\n",
    "    print(\"La p-value est de\", round(pval,3), \", l'hypothèse nulle est rejetée, les 2 variables sont corrélées.\")\n",
    "    print(\"le τ de Kendall est de\", round(corr,3))"
   ]
  },
  {
   "cell_type": "markdown",
   "id": "01b8a67b-feb8-4538-8608-5b7f7e0aa21c",
   "metadata": {},
   "source": [
    "Le second graphique montre l'existence de 3 sous-groupes : les 19-31 ans (\"les étudiants\"), les 32-51 ans (\"les actifs\") et les 52 ans et + (\"les seniors\"). Des études selon ces groupes sont à envisager pour des appréciations plus fines de leurs habitudes d'achat."
   ]
  },
  {
   "cell_type": "markdown",
   "id": "09a735ab-6dea-4d67-b40f-a309d94653ba",
   "metadata": {},
   "source": [
    "#### <u>Etude par Tranche d'âge</u>\n",
    "\n",
    "Nous regroupons nos valeurs selon nos 3 populations"
   ]
  },
  {
   "cell_type": "code",
   "execution_count": 18,
   "id": "fcb8f0f7-3e9d-49d1-a392-5741b477c619",
   "metadata": {},
   "outputs": [
    {
     "data": {
      "image/png": "[encoded data removed]",
      "text/plain": [
       "<Figure size 720x504 with 1 Axes>"
      ]
     },
     "metadata": {
      "needs_background": "light"
     },
     "output_type": "display_data"
    }
   ],
   "source": [
    "age_montant_df[\"Tranche d'age\"] = pd.cut(age_montant_df.age, bins=[18,31,51,94]) \n",
    "\n",
    "# visualisation\n",
    "plt.figure(figsize=(10,7))\n",
    "sns.boxplot(x=\"Tranche d'age\", y=\"total des achats\", data=age_montant_df, showfliers=False)\n",
    "plt.title(\"Dispersion du total des achats selon les tranches d'âge\", fontsize=14, fontweight='bold')\n",
    "plt.show();"
   ]
  },
  {
   "cell_type": "markdown",
   "id": "5dd9d1dc-70ae-4de8-9f9e-adb9c847a192",
   "metadata": {},
   "source": [
    "Les distributions n'étant pas normales, le test ANOVA sera remplacé par son équivalent non-paramétrique pour plusieurs groupes, <i>i.e.</i> le test de Kruskal-Wallis.\n",
    "> H0 : il y a égalité des médianes<br> H1 : les médianes sont différentes"
   ]
  },
  {
   "cell_type": "code",
   "execution_count": 19,
   "id": "9fe16de0-bdf1-4f86-8fd3-3aeadc920c27",
   "metadata": {},
   "outputs": [
    {
     "name": "stdout",
     "output_type": "stream",
     "text": [
      "La p-value est de 0.0 , l'hypothèse nulle est rejetée, les 3 échantillons sont différents.\n",
      "La sτatistique de Kruskal-Wallis est de 57.122\n"
     ]
    }
   ],
   "source": [
    "# array des tranches d'age\n",
    "tranches_d_age = age_montant_df[\"Tranche d'age\"].unique()\n",
    "# test de Kruskal-Wallis\n",
    "corr, pval = st.kruskal(age_montant_df[age_montant_df[\"Tranche d'age\"] == tranches_d_age[0]][\"total des achats\"],\n",
    "                        age_montant_df[age_montant_df[\"Tranche d'age\"] == tranches_d_age[1]][\"total des achats\"],\n",
    "                        age_montant_df[age_montant_df[\"Tranche d'age\"] == tranches_d_age[2]][\"total des achats\"])\n",
    "if pval>0.05:\n",
    "    print(\"La p-value est de\", round(pval,3), \", l'hypothèse nulle est retenue, les 3 échantillons sont issus de la même population.\")\n",
    "else:\n",
    "    print(\"La p-value est de\", round(pval,3), \", l'hypothèse nulle est rejetée, les 3 échantillons sont différents.\")\n",
    "    print(\"La sτatistique de Kruskal-Wallis est de\", round(corr,3))"
   ]
  },
  {
   "cell_type": "markdown",
   "id": "703be9a4-3720-49c3-a9d6-1457b683c109",
   "metadata": {
    "tags": []
   },
   "source": [
    "### Montant moyen du panier en fonction de l'age <a class=\"anchor\" id=\"section4_2_2\"></a>"
   ]
  },
  {
   "cell_type": "code",
   "execution_count": 20,
   "id": "5a3d8d9c-d4b8-4c6f-af1f-f248393a3201",
   "metadata": {},
   "outputs": [
    {
     "data": {
      "image/png": "[encoded data removed]",
      "text/plain": [
       "<Figure size 720x504 with 1 Axes>"
      ]
     },
     "metadata": {
      "needs_background": "light"
     },
     "output_type": "display_data"
    }
   ],
   "source": [
    "# calcul du montant moyen du panier en fct de l'age\n",
    "panier_moyen_df = montant_panier_df.groupby([\"age\", \"sex\"], as_index=False)[\"montant du panier\"].mean()\n",
    "\n",
    "#visualisation\n",
    "plt.figure(figsize=(10,7))\n",
    "sns.scatterplot(x=\"age\", y=\"montant du panier\", data=panier_moyen_df)\n",
    "plt.title(\"Représentation du panier moyen en fct de l'âge des clients\", fontsize=15, fontweight='bold')\n",
    "plt.xlabel(\"âge\")\n",
    "plt.ylabel(\"panier moyen (en €)\")\n",
    "plt.show();"
   ]
  },
  {
   "cell_type": "markdown",
   "id": "1039a18d-8ded-4453-b513-345d2a12a0ca",
   "metadata": {},
   "source": [
    "Normalité de nos variables :"
   ]
  },
  {
   "cell_type": "code",
   "execution_count": 21,
   "id": "324e11e4-8a9b-4f37-bc53-45af02fad991",
   "metadata": {},
   "outputs": [
    {
     "name": "stdout",
     "output_type": "stream",
     "text": [
      "            W      pval  normal\n",
      "age  0.954261  0.000067   False\n",
      "                          W          pval  normal\n",
      "montant du panier  0.645238  1.271780e-17   False\n"
     ]
    }
   ],
   "source": [
    "print(pg.normality(panier_moyen_df[\"age\"]))\n",
    "print(pg.normality(panier_moyen_df[\"montant du panier\"]))"
   ]
  },
  {
   "cell_type": "markdown",
   "id": "eb426af3-afbe-441f-99f5-90d1df1f7b8f",
   "metadata": {},
   "source": [
    "Les 2 variables ne suivent pas une distribution normale. Le nuage de points montre une relation monotone (décroissante), nos hypothèses seront soumises à un test de Spearman :"
   ]
  },
  {
   "cell_type": "markdown",
   "id": "db6342d8-9fc1-489e-a370-64bea03646bd",
   "metadata": {},
   "source": [
    ">H0 : pas de corrélation entre le montant du panier moyen et l'âge des clients<br>\n",
    "H1 : il existe une corrélation<br>"
   ]
  },
  {
   "cell_type": "code",
   "execution_count": 22,
   "id": "370f9808-99c6-4b1c-a686-a52c2a7b5600",
   "metadata": {
    "tags": []
   },
   "outputs": [
    {
     "data": {
      "text/html": [
       "<div>\n",
       "<style scoped>\n",
       "    .dataframe tbody tr th:only-of-type {\n",
       "        vertical-align: middle;\n",
       "    }\n",
       "\n",
       "    .dataframe tbody tr th {\n",
       "        vertical-align: top;\n",
       "    }\n",
       "\n",
       "    .dataframe thead th {\n",
       "        text-align: right;\n",
       "    }\n",
       "</style>\n",
       "<table border=\"1\" class=\"dataframe\">\n",
       "  <thead>\n",
       "    <tr style=\"text-align: right;\">\n",
       "      <th></th>\n",
       "      <th>n</th>\n",
       "      <th>r</th>\n",
       "      <th>CI95%</th>\n",
       "      <th>p-val</th>\n",
       "      <th>power</th>\n",
       "    </tr>\n",
       "  </thead>\n",
       "  <tbody>\n",
       "    <tr>\n",
       "      <th>spearman</th>\n",
       "      <td>152</td>\n",
       "      <td>-0.740745</td>\n",
       "      <td>[-0.81, -0.66]</td>\n",
       "      <td>1.061395e-27</td>\n",
       "      <td>1.0</td>\n",
       "    </tr>\n",
       "  </tbody>\n",
       "</table>\n",
       "</div>"
      ],
      "text/plain": [
       "            n         r           CI95%         p-val  power\n",
       "spearman  152 -0.740745  [-0.81, -0.66]  1.061395e-27    1.0"
      ]
     },
     "execution_count": 22,
     "metadata": {},
     "output_type": "execute_result"
    }
   ],
   "source": [
    "pg.corr(panier_moyen_df.age, panier_moyen_df[\"montant du panier\"], method='spearman')"
   ]
  },
  {
   "cell_type": "markdown",
   "id": "7b7bd44e-f7a7-450a-9ec2-d363be8f4d5b",
   "metadata": {},
   "source": [
    "p < 0.05, rejet de H0, il existe une corrélation négative forte et statistiquement significative."
   ]
  },
  {
   "cell_type": "markdown",
   "id": "40c854e3-1b1b-4bb5-9a83-62882ad9508c",
   "metadata": {},
   "source": [
    "#### <u>Etude par Tranche d'âge</u>\n",
    "\n",
    "Nous regroupons nos valeurs selon nos 3 populations"
   ]
  },
  {
   "cell_type": "code",
   "execution_count": 23,
   "id": "de0dcd4f-7fc5-448d-8601-75d819426042",
   "metadata": {},
   "outputs": [
    {
     "data": {
      "image/png": "[encoded data removed]",
      "text/plain": [
       "<Figure size 720x504 with 1 Axes>"
      ]
     },
     "metadata": {
      "needs_background": "light"
     },
     "output_type": "display_data"
    }
   ],
   "source": [
    "# ajout de la colonne \"Tranche d'age\" \n",
    "panier_moyen_df[\"Tranche d'age\"] = pd.cut(panier_moyen_df.age, bins=[18,31,51,94])\n",
    "\n",
    "# visualisation\n",
    "plt.figure(figsize=(10,7))\n",
    "sns.boxplot(x=\"Tranche d'age\", y=\"montant du panier\", data=panier_moyen_df)\n",
    "plt.title(\"Dispersion du panier moyen selon les tranches d'âge\", fontsize=14, fontweight='bold')\n",
    "plt.show();"
   ]
  },
  {
   "cell_type": "markdown",
   "id": "14bd0dc7-3d78-47be-83cc-273f7f5289ea",
   "metadata": {},
   "source": [
    "Les distributions n'étant pas normales, le test ANOVA sera remplacé par son équivalent non-paramétrique pour plusieurs groupes, <i>i.e.</i> le test de Kruskal-Wallis.\n",
    "> H0 : il y a égalité des médianes<br> H1 : les médianes sont différentes"
   ]
  },
  {
   "cell_type": "code",
   "execution_count": 24,
   "id": "aaa137d0-6009-42e1-9c88-23aa90c9b64c",
   "metadata": {},
   "outputs": [
    {
     "name": "stdout",
     "output_type": "stream",
     "text": [
      "La p-value est de 0.0 , l'hypothèse nulle est rejetée, les 3 échantillons sont différents.\n",
      "le sτatistique de Kruskal-Wallis est de 115.068\n"
     ]
    }
   ],
   "source": [
    "# array des tranches d'age\n",
    "tranches_d_age = panier_moyen_df[\"Tranche d\\'age\"].unique()\n",
    "# test de Kruskal-Wallis\n",
    "corr, pval = st.kruskal(panier_moyen_df[panier_moyen_df[\"Tranche d'age\"] == tranches_d_age[0]][\"montant du panier\"],\n",
    "                        panier_moyen_df[panier_moyen_df[\"Tranche d'age\"] == tranches_d_age[1]][\"montant du panier\"],\n",
    "                        panier_moyen_df[panier_moyen_df[\"Tranche d'age\"] == tranches_d_age[2]][\"montant du panier\"])\n",
    "if pval>0.05:\n",
    "    print(\"La p-value est de\", round(pval,3), \", l'hypothèse nulle est retenue, les 3 échantillons sont issus de la même population.\")\n",
    "else:\n",
    "    print(\"La p-value est de\", round(pval,3), \", l'hypothèse nulle est rejetée, les 3 échantillons sont différents.\")\n",
    "    print(\"le sτatistique de Kruskal-Wallis est de\", round(corr,3))"
   ]
  },
  {
   "cell_type": "markdown",
   "id": "c7f4f33d-4f02-44d6-9108-f692958af102",
   "metadata": {
    "tags": []
   },
   "source": [
    "### Fréquence d'achats <a class=\"anchor\" id=\"section4_2_3\"></a>\n",
    "La fréquence d'achats mensuelle se calcule en comptant le nombre de sessions par client divisée par le temps d'étude (24 mois) :"
   ]
  },
  {
   "cell_type": "code",
   "execution_count": 25,
   "id": "6781bdb7-b413-4a53-8300-3817b2c65973",
   "metadata": {},
   "outputs": [
    {
     "data": {
      "image/png": "[encoded data removed]",
      "text/plain": [
       "<Figure size 432x288 with 1 Axes>"
      ]
     },
     "metadata": {
      "needs_background": "light"
     },
     "output_type": "display_data"
    }
   ],
   "source": [
    "# création du df et calcul de la fréquence\n",
    "frequence_achats_df = lapage_df.groupby(\"age\", as_index=False).agg({\"session_id\":\"count\", \"client_id\":pd.Series.nunique})\n",
    "frequence_achats_df[\"frequence\"] = frequence_achats_df[\"session_id\"] / frequence_achats_df[\"client_id\"] / 24\n",
    "\n",
    "# visualisation\n",
    "plt.figure(figsize=(10,7))\n",
    "sns.scatterplot(x=\"age\", y=\"frequence\", data=frequence_achats_df)\n",
    "plt.title(\"Nombre de sessions par mois et par client en fct de leur âge\", fontsize=14, fontweight='bold');"
   ]
  },
  {
   "cell_type": "code",
   "execution_count": 26,
   "id": "8943befb-6fb3-4499-9eb2-450b4fca8382",
   "metadata": {},
   "outputs": [
    {
     "data": {
      "text/html": [
       "<div>\n",
       "<style scoped>\n",
       "    .dataframe tbody tr th:only-of-type {\n",
       "        vertical-align: middle;\n",
       "    }\n",
       "\n",
       "    .dataframe tbody tr th {\n",
       "        vertical-align: top;\n",
       "    }\n",
       "\n",
       "    .dataframe thead th {\n",
       "        text-align: right;\n",
       "    }\n",
       "</style>\n",
       "<table border=\"1\" class=\"dataframe\">\n",
       "  <thead>\n",
       "    <tr style=\"text-align: right;\">\n",
       "      <th></th>\n",
       "      <th>W</th>\n",
       "      <th>pval</th>\n",
       "      <th>normal</th>\n",
       "    </tr>\n",
       "  </thead>\n",
       "  <tbody>\n",
       "    <tr>\n",
       "      <th>frequence</th>\n",
       "      <td>0.820888</td>\n",
       "      <td>3.520476e-08</td>\n",
       "      <td>False</td>\n",
       "    </tr>\n",
       "  </tbody>\n",
       "</table>\n",
       "</div>"
      ],
      "text/plain": [
       "                  W          pval  normal\n",
       "frequence  0.820888  3.520476e-08   False"
      ]
     },
     "execution_count": 26,
     "metadata": {},
     "output_type": "execute_result"
    }
   ],
   "source": [
    "pg.normality(frequence_achats_df.frequence)"
   ]
  },
  {
   "cell_type": "code",
   "execution_count": 27,
   "id": "533e0335-7ef1-40a7-b506-5caaeeda257c",
   "metadata": {},
   "outputs": [
    {
     "data": {
      "text/html": [
       "<div>\n",
       "<style scoped>\n",
       "    .dataframe tbody tr th:only-of-type {\n",
       "        vertical-align: middle;\n",
       "    }\n",
       "\n",
       "    .dataframe tbody tr th {\n",
       "        vertical-align: top;\n",
       "    }\n",
       "\n",
       "    .dataframe thead th {\n",
       "        text-align: right;\n",
       "    }\n",
       "</style>\n",
       "<table border=\"1\" class=\"dataframe\">\n",
       "  <thead>\n",
       "    <tr style=\"text-align: right;\">\n",
       "      <th></th>\n",
       "      <th>W</th>\n",
       "      <th>pval</th>\n",
       "      <th>normal</th>\n",
       "    </tr>\n",
       "  </thead>\n",
       "  <tbody>\n",
       "    <tr>\n",
       "      <th>age</th>\n",
       "      <td>0.954924</td>\n",
       "      <td>0.008754</td>\n",
       "      <td>False</td>\n",
       "    </tr>\n",
       "  </tbody>\n",
       "</table>\n",
       "</div>"
      ],
      "text/plain": [
       "            W      pval  normal\n",
       "age  0.954924  0.008754   False"
      ]
     },
     "execution_count": 27,
     "metadata": {},
     "output_type": "execute_result"
    }
   ],
   "source": [
    "pg.normality(frequence_achats_df.age)"
   ]
  },
  {
   "cell_type": "markdown",
   "id": "a9fbbba1-d0eb-4480-8389-fb9075e9e172",
   "metadata": {},
   "source": [
    "Nos 2 variables ne suivent pas une loi normale. Le nuage de points montre que la relation n'est ni linéaire, ni monotone, nous utiliserons donc un test de corrélation de Kendall\n",
    "> H0 : il n'y a pas de corrélation entre la fréquence des sessions et l'âge<br>  H1 : les 2 variables sont corrélées.<br>"
   ]
  },
  {
   "cell_type": "code",
   "execution_count": 28,
   "id": "1b5b9ea4-c880-4bbe-bd3e-475c8d989a22",
   "metadata": {},
   "outputs": [
    {
     "name": "stdout",
     "output_type": "stream",
     "text": [
      "La p-value est de 0.286 , l'hypothèse nulle est retenue, les 2 variables sont indépendantes au seuil de 5%.\n"
     ]
    }
   ],
   "source": [
    "corr, pval = st.kendalltau(frequence_achats_df.age, frequence_achats_df.frequence)\n",
    "if pval>0.05:\n",
    "    print(\"La p-value est de\", round(pval,3), \", l'hypothèse nulle est retenue, les 2 variables sont indépendantes au seuil de 5%.\")\n",
    "else:\n",
    "    print(\"La p-value est de\", round(pval,3), \", l'hypothèse nulle est rejetée, les 2 variables sont corrélées.\")\n",
    "    print(\"le τ de Kendall est de\", round(corr,3))"
   ]
  },
  {
   "cell_type": "markdown",
   "id": "637a58ef-e340-4b78-b01a-b4f44c13763a",
   "metadata": {},
   "source": [
    "#### Etude par Tranche d'âge"
   ]
  },
  {
   "cell_type": "code",
   "execution_count": 29,
   "id": "f1f73bbe-223d-4848-b148-921a7bd89103",
   "metadata": {},
   "outputs": [
    {
     "data": {
      "image/png": "[encoded data removed]",
      "text/plain": [
       "<Figure size 720x504 with 1 Axes>"
      ]
     },
     "metadata": {
      "needs_background": "light"
     },
     "output_type": "display_data"
    }
   ],
   "source": [
    "frequence_achats_df[\"Tranche d'age\"] = pd.cut(frequence_achats_df.age, bins=[18,31,51,94])\n",
    "\n",
    "# visualisation\n",
    "plt.figure(figsize=(10,7))\n",
    "sns.boxplot(x=\"Tranche d'age\", y=\"frequence\", data=frequence_achats_df)\n",
    "plt.title(\"Dispersion de la fréquence d'achats selon les tranches d'âge\", fontsize=14, fontweight='bold')\n",
    "plt.show();"
   ]
  },
  {
   "cell_type": "markdown",
   "id": "3a951862-c42b-4611-8099-b060dc833006",
   "metadata": {},
   "source": [
    "Les distributions ne suivent pas la loi normale, le test ANOVA sera remplacé par son équivalent non-paramétrique pour plusieurs groupes, <i>i.e.</i> le test de Kruskal-Wallis.\n",
    "> H0 : il y a égalité des médianes<br> H1 : les médianes sont différentes"
   ]
  },
  {
   "cell_type": "code",
   "execution_count": 30,
   "id": "0a3ad48b-f134-4589-b2c2-13cab8568b43",
   "metadata": {},
   "outputs": [
    {
     "name": "stdout",
     "output_type": "stream",
     "text": [
      "La p-value est de 0.0 , l'hypothèse nulle est rejetée, les 3 échantillons sont différents.\n",
      "le sτatistique de Kruskal-Wallis est de 59.342\n"
     ]
    }
   ],
   "source": [
    "# array des tranches d'age\n",
    "tranches_d_age = frequence_achats_df[\"Tranche d'age\"].unique()\n",
    "# test de Kruskal-Wallis\n",
    "corr, pval = st.kruskal(frequence_achats_df[frequence_achats_df[\"Tranche d'age\"] == tranches_d_age[0]][\"frequence\"],\n",
    "                        frequence_achats_df[frequence_achats_df[\"Tranche d'age\"] == tranches_d_age[1]][\"frequence\"],\n",
    "                        frequence_achats_df[frequence_achats_df[\"Tranche d'age\"] == tranches_d_age[2]][\"frequence\"])\n",
    "if pval>0.05:\n",
    "    print(\"La p-value est de\", round(pval,3), \", l'hypothèse nulle est retenue, les 3 échantillons sont issus de la même population.\")\n",
    "else:\n",
    "    print(\"La p-value est de\", round(pval,3), \", l'hypothèse nulle est rejetée, les 3 échantillons sont différents.\")\n",
    "    print(\"le sτatistique de Kruskal-Wallis est de\", round(corr,3))"
   ]
  },
  {
   "cell_type": "markdown",
   "id": "60ae3028-1630-47c9-bfa7-eeeeeb5c0bc3",
   "metadata": {},
   "source": [
    "***"
   ]
  },
  {
   "cell_type": "markdown",
   "id": "adfc83c9-d0dd-4bba-97bb-a7b00f7a95fa",
   "metadata": {},
   "source": [
    "### Catégorie de livres <a class=\"anchor\" id=\"section4_2_4\"></a>"
   ]
  },
  {
   "cell_type": "markdown",
   "id": "dfe80ad6-7cf8-4c03-8ecf-b2742979ff21",
   "metadata": {},
   "source": [
    "Nous étudions ici une variable quantitative et une variable qualitative"
   ]
  },
  {
   "cell_type": "code",
   "execution_count": 32,
   "id": "1778f605-8c9c-431c-9dbf-9dd87835e24d",
   "metadata": {},
   "outputs": [
    {
     "data": {
      "image/png": "[encoded data removed]",
      "text/plain": [
       "<Figure size 1440x576 with 1 Axes>"
      ]
     },
     "metadata": {
      "needs_background": "light"
     },
     "output_type": "display_data"
    }
   ],
   "source": [
    "plt.figure(figsize=(20,8))\n",
    "sns.boxplot(x=\"age\", y=\"categ\", data=lapage_df, orient=\"h\", fliersize=0, showmeans=True, meanprops = {'marker':'o', 'markerfacecolor':'red'});"
   ]
  },
  {
   "cell_type": "code",
   "execution_count": 33,
   "id": "097dff97-7ba7-4648-acf8-56776b4f8eac",
   "metadata": {},
   "outputs": [
    {
     "data": {
      "text/plain": [
       "<AxesSubplot:xlabel=\"Tranche d'age\">"
      ]
     },
     "execution_count": 33,
     "metadata": {},
     "output_type": "execute_result"
    },
    {
     "data": {
      "image/png": "[encoded data removed]",
      "text/plain": [
       "<Figure size 432x288 with 1 Axes>"
      ]
     },
     "metadata": {
      "needs_background": "light"
     },
     "output_type": "display_data"
    }
   ],
   "source": [
    "cat_age_df = pd.crosstab(lapage_df[\"Tranche d'age\"], lapage_df.categ)\n",
    "cat_age_df.plot.bar(stacked=True, color={\"#3274a1\", \"#e1812c\", \"#3a923a\"})"
   ]
  },
  {
   "cell_type": "code",
   "execution_count": 34,
   "id": "1e4b89d4-06d5-4b50-b330-1d0d235ce840",
   "metadata": {},
   "outputs": [],
   "source": [
    "khi2, pval, ddl, expected = st.chi2_contingency(cat_age_df, correction=True)"
   ]
  },
  {
   "cell_type": "code",
   "execution_count": 36,
   "id": "97679bf9-0e0f-4ca7-b187-28c0c7be1b42",
   "metadata": {
    "tags": []
   },
   "outputs": [
    {
     "data": {
      "image/png": "[encoded data removed]",
      "text/plain": [
       "<Figure size 720x576 with 2 Axes>"
      ]
     },
     "metadata": {
      "needs_background": "light"
     },
     "output_type": "display_data"
    }
   ],
   "source": [
    "# variables étudiées\n",
    "X = \"Tranche d'age\"\n",
    "Y = \"categ\"\n",
    "\n",
    "# tableau de contingence\n",
    "cont = lapage_df[[X,Y]].pivot_table(index=X,columns=Y,aggfunc=len,margins=True,margins_name=\"Total\")\n",
    "\n",
    "# total par X\n",
    "tx = cont.loc[:,[\"Total\"]]\n",
    "# total par Y\n",
    "ty = cont.loc[[\"Total\"],:]\n",
    "n = len(lapage_df)\n",
    "indep = tx.dot(ty) / n\n",
    "\n",
    "measure = (cont-indep)**2/indep\n",
    "xi_n = measure.sum().sum()\n",
    "table = measure/xi_n\n",
    "\n",
    "# visualisation\n",
    "plt.figure(figsize=(10,8))\n",
    "sns.heatmap(table.iloc[:-1,:-1],cmap=(\"OrRd\"),annot=table.iloc[:-1,:-1])\n",
    "plt.title(\"Carte des corrélations\", fontsize=15, fontweight='bold')\n",
    "plt.show()"
   ]
  },
  {
   "cell_type": "markdown",
   "id": "b7b02538-a741-494f-94db-c9de916d963e",
   "metadata": {},
   "source": [
    "Nous avons confirmation de la non indépendance de nos variables : les écarts entre valeurs théoriques et valeurs observées sont très important pour la catégorie 2 dans la tranche des 19-31 ans."
   ]
  },
  {
   "cell_type": "markdown",
   "id": "19af8f43-d58c-41c2-926e-50ba87565940",
   "metadata": {},
   "source": [
    "***\n",
    "***"
   ]
  },
  {
   "cell_type": "markdown",
   "id": "a81d3caa-c2cc-4d39-9d4c-b178e3a672a6",
   "metadata": {},
   "source": [
    "## Autres corrélations <a class=\"anchor\" id=\"section4_3\"></a>\n",
    "### Montant moyen du panier en fct du sexe <a class=\"anchor\" id=\"section4_3_1\"></a>"
   ]
  },
  {
   "cell_type": "code",
   "execution_count": 37,
   "id": "5e35588c-aaba-4c39-a3d0-7e32ec2c65fe",
   "metadata": {},
   "outputs": [
    {
     "data": {
      "image/png": "[encoded data removed]",
      "text/plain": [
       "<Figure size 440x216 with 2 Axes>"
      ]
     },
     "metadata": {
      "needs_background": "light"
     },
     "output_type": "display_data"
    }
   ],
   "source": [
    "sns.FacetGrid(panier_moyen_df, col=\"sex\").map(plt.scatter, \"age\", \"montant du panier\").add_legend();"
   ]
  },
  {
   "cell_type": "code",
   "execution_count": 38,
   "id": "08cb3a23-687d-4478-a20d-ce3080d7d403",
   "metadata": {},
   "outputs": [
    {
     "data": {
      "image/png": "[encoded data removed]",
      "text/plain": [
       "<Figure size 432x288 with 1 Axes>"
      ]
     },
     "metadata": {
      "needs_background": "light"
     },
     "output_type": "display_data"
    }
   ],
   "source": [
    "sns.boxplot(y=\"sex\", x=\"montant du panier\", data=panier_moyen_df, orient=\"h\");"
   ]
  },
  {
   "cell_type": "code",
   "execution_count": 39,
   "id": "7ad606e8-e6d6-467f-8d8a-717903488df1",
   "metadata": {},
   "outputs": [
    {
     "name": "stdout",
     "output_type": "stream",
     "text": [
      "                          W          pval  normal\n",
      "montant du panier  0.652508  4.014176e-12   False\n",
      "                          W          pval  normal\n",
      "montant du panier  0.636064  1.973604e-12   False\n"
     ]
    }
   ],
   "source": [
    "# test de normalités pour les 2 genres\n",
    "print(pg.normality(panier_moyen_df[panier_moyen_df.sex == 'f'][\"montant du panier\"]))\n",
    "print(pg.normality(panier_moyen_df[panier_moyen_df.sex == 'm'][\"montant du panier\"]))"
   ]
  },
  {
   "cell_type": "markdown",
   "id": "99cfc8e0-f3f3-42f9-bcbb-fdc86656d8bb",
   "metadata": {
    "tags": []
   },
   "source": [
    "Les 2 populations ne suivent pas une loi normale, nous effectuons donc un test non-paramétrique pour savoir si elles sont identiques<br>\n",
    ">H0 : Nos 2 distributions sont identiques<br>H1 : Elles sont différentes<br>"
   ]
  },
  {
   "cell_type": "code",
   "execution_count": 40,
   "id": "1b8ed9cc-008a-42a2-9463-829935867161",
   "metadata": {},
   "outputs": [
    {
     "name": "stdout",
     "output_type": "stream",
     "text": [
      "La p_value est de  0.8842723550299203 , l'hypothèse nulle est retenue, les 2 échantillons ont la même distribution au seuil de 5%.\n"
     ]
    }
   ],
   "source": [
    "stat, pval = st.mannwhitneyu(panier_moyen_df[panier_moyen_df.sex == 'f'][\"montant du panier\"], panier_moyen_df[panier_moyen_df.sex == 'm'][\"montant du panier\"])\n",
    "if pval>0.05:\n",
    "    print(\"La p_value est de \",pval, \", l'hypothèse nulle est retenue, les 2 échantillons ont la même distribution au seuil de 5%.\")\n",
    "else:\n",
    "    print(\"La p_value est de \",pval, \", l'hypothèse nulle est rejetée, les 2 échantillons n'ont pas la même distribution.\")"
   ]
  },
  {
   "cell_type": "markdown",
   "id": "f9b799de",
   "metadata": {},
   "source": [
    "Nos 2 distributions sont statistiquement identiques."
   ]
  },
  {
   "cell_type": "markdown",
   "id": "15e554f9-7918-4687-bad3-1d0bb6546bca",
   "metadata": {
    "tags": []
   },
   "source": [
    "### Age moyen des acheteurs par produit <a class=\"anchor\" id=\"section4_3_2\"></a>"
   ]
  },
  {
   "cell_type": "markdown",
   "id": "d7035a8f-11da-43d7-b60c-896980d1ae86",
   "metadata": {},
   "source": [
    "Nous pouvons créer un dataframe sur l'age moyen des clients par produit et ensuite le joindre au dataframe de nos ventes par produit:"
   ]
  },
  {
   "cell_type": "code",
   "execution_count": 42,
   "id": "fef5972b-97dc-41ea-95f4-b5939671b805",
   "metadata": {
    "tags": []
   },
   "outputs": [
    {
     "data": {
      "text/html": [
       "<div>\n",
       "<style scoped>\n",
       "    .dataframe tbody tr th:only-of-type {\n",
       "        vertical-align: middle;\n",
       "    }\n",
       "\n",
       "    .dataframe tbody tr th {\n",
       "        vertical-align: top;\n",
       "    }\n",
       "\n",
       "    .dataframe thead th {\n",
       "        text-align: right;\n",
       "    }\n",
       "</style>\n",
       "<table border=\"1\" class=\"dataframe\">\n",
       "  <thead>\n",
       "    <tr style=\"text-align: right;\">\n",
       "      <th></th>\n",
       "      <th>id_prod</th>\n",
       "      <th>nombre de ventes</th>\n",
       "      <th>age</th>\n",
       "    </tr>\n",
       "  </thead>\n",
       "  <tbody>\n",
       "    <tr>\n",
       "      <th>0</th>\n",
       "      <td>1_369</td>\n",
       "      <td>2252</td>\n",
       "      <td>49.531855</td>\n",
       "    </tr>\n",
       "    <tr>\n",
       "      <th>1</th>\n",
       "      <td>1_417</td>\n",
       "      <td>2189</td>\n",
       "      <td>48.283691</td>\n",
       "    </tr>\n",
       "    <tr>\n",
       "      <th>2</th>\n",
       "      <td>1_414</td>\n",
       "      <td>2180</td>\n",
       "      <td>49.479004</td>\n",
       "    </tr>\n",
       "    <tr>\n",
       "      <th>3</th>\n",
       "      <td>1_498</td>\n",
       "      <td>2128</td>\n",
       "      <td>48.394617</td>\n",
       "    </tr>\n",
       "    <tr>\n",
       "      <th>4</th>\n",
       "      <td>1_425</td>\n",
       "      <td>2096</td>\n",
       "      <td>49.296787</td>\n",
       "    </tr>\n",
       "    <tr>\n",
       "      <th>...</th>\n",
       "      <td>...</td>\n",
       "      <td>...</td>\n",
       "      <td>...</td>\n",
       "    </tr>\n",
       "    <tr>\n",
       "      <th>3258</th>\n",
       "      <td>0_1539</td>\n",
       "      <td>1</td>\n",
       "      <td>35.000000</td>\n",
       "    </tr>\n",
       "    <tr>\n",
       "      <th>3259</th>\n",
       "      <td>0_1151</td>\n",
       "      <td>1</td>\n",
       "      <td>50.000000</td>\n",
       "    </tr>\n",
       "    <tr>\n",
       "      <th>3260</th>\n",
       "      <td>0_549</td>\n",
       "      <td>1</td>\n",
       "      <td>36.000000</td>\n",
       "    </tr>\n",
       "    <tr>\n",
       "      <th>3261</th>\n",
       "      <td>2_98</td>\n",
       "      <td>1</td>\n",
       "      <td>20.000000</td>\n",
       "    </tr>\n",
       "    <tr>\n",
       "      <th>3262</th>\n",
       "      <td>0_1498</td>\n",
       "      <td>1</td>\n",
       "      <td>44.000000</td>\n",
       "    </tr>\n",
       "  </tbody>\n",
       "</table>\n",
       "<p>3263 rows × 3 columns</p>\n",
       "</div>"
      ],
      "text/plain": [
       "     id_prod  nombre de ventes        age\n",
       "0      1_369              2252  49.531855\n",
       "1      1_417              2189  48.283691\n",
       "2      1_414              2180  49.479004\n",
       "3      1_498              2128  48.394617\n",
       "4      1_425              2096  49.296787\n",
       "...      ...               ...        ...\n",
       "3258  0_1539                 1  35.000000\n",
       "3259  0_1151                 1  50.000000\n",
       "3260   0_549                 1  36.000000\n",
       "3261    2_98                 1  20.000000\n",
       "3262  0_1498                 1  44.000000\n",
       "\n",
       "[3263 rows x 3 columns]"
      ]
     },
     "execution_count": 42,
     "metadata": {},
     "output_type": "execute_result"
    }
   ],
   "source": [
    "top_df = pd.read_csv('Data/top_df.csv')\n",
    "# age moyen par produit\n",
    "age_prod_df = lapage_df.groupby(\"id_prod\", as_index=False)[\"age\"].mean()\n",
    "top_age_df = pd.merge(top_df, age_prod_df, on=\"id_prod\", how=\"inner\")\n",
    "top_age_df"
   ]
  },
  {
   "cell_type": "code",
   "execution_count": 43,
   "id": "f966f530-9235-4b1e-9ba5-b893127d6961",
   "metadata": {},
   "outputs": [
    {
     "data": {
      "text/plain": [
       "count    3263.000000\n",
       "mean       44.328667\n",
       "std         6.620058\n",
       "min        19.000000\n",
       "25%        42.797338\n",
       "50%        44.983073\n",
       "75%        47.774194\n",
       "max        78.000000\n",
       "Name: age, dtype: float64"
      ]
     },
     "execution_count": 43,
     "metadata": {},
     "output_type": "execute_result"
    }
   ],
   "source": [
    "top_age_df.age.describe()"
   ]
  },
  {
   "cell_type": "code",
   "execution_count": 44,
   "id": "d5df71b9-bb74-43bb-aa23-a64cf0a6c5e4",
   "metadata": {},
   "outputs": [
    {
     "data": {
      "image/png": "[encoded data removed]",
      "text/plain": [
       "<Figure size 432x288 with 1 Axes>"
      ]
     },
     "metadata": {
      "needs_background": "light"
     },
     "output_type": "display_data"
    }
   ],
   "source": [
    "sns.scatterplot(x='age', y='nombre de ventes', data=top_age_df);"
   ]
  },
  {
   "cell_type": "markdown",
   "id": "fd47f0e0-fcd0-49a0-9938-1c138f9f0bc2",
   "metadata": {},
   "source": [
    "Piste d'étude : age des acheteurs par produit"
   ]
  },
  {
   "cell_type": "markdown",
   "id": "369fa213",
   "metadata": {},
   "source": [
    "***\n",
    "***"
   ]
  },
  {
   "cell_type": "markdown",
   "id": "42e0f1b7-c729-4675-a7dc-560a32e55860",
   "metadata": {},
   "source": [
    "# Récapitulatif <a class=\"anchor\" id=\"section4_4\"></a>\n",
    "\n",
    "99.7% de nos clients ont commandé en ligne au cours des 2 dernières années.<br>L'âge moyen de nos clients est de 44.7 ans.<br>Il y a statistiquement autant de clients femmes que de clients hommes avec une distribution en âge identiques.<br>Les femmes représentent 52% de notre clientèle."
   ]
  }
 ],
 "metadata": {
  "kernelspec": {
   "display_name": "Python 3.9.12 ('base')",
   "language": "python",
   "name": "python3"
  },
  "language_info": {
   "codemirror_mode": {
    "name": "ipython",
    "version": 3
   },
   "file_extension": ".py",
   "mimetype": "text/x-python",
   "name": "python",
   "nbconvert_exporter": "python",
   "pygments_lexer": "ipython3",
   "version": "3.9.12"
  },
  "toc-autonumbering": false,
  "vscode": {
   "interpreter": {
    "hash": "ad2bdc8ecc057115af97d19610ffacc2b4e99fae6737bb82f5d7fb13d2f2c186"
   }
  }
 },
 "nbformat": 4,
 "nbformat_minor": 5
}
